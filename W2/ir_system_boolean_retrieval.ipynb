{
 "cells": [
  {
   "cell_type": "markdown",
   "id": "a3b4f7f0-1d5c-462b-9f5a-1c1fa1f31b20",
   "metadata": {},
   "source": [
    "# IR System using Boolean Retrieval Technique"
   ]
  },
  {
   "cell_type": "markdown",
   "id": "c80d85e2-3882-4da0-b9e1-b57c6c5c7dde",
   "metadata": {},
   "source": [
    "## Function that clears the Boiletplate text from the beginning of the book, and the end"
   ]
  },
  {
   "cell_type": "code",
   "execution_count": 12,
   "id": "d2dad4bb-028e-4fb3-bb71-b7f791cefe01",
   "metadata": {},
   "outputs": [],
   "source": [
    "def strip_boilerplate(text):\n",
    "    # Define the start and end markers\n",
    "    start_marker = r'\\*\\*\\* START OF THE PROJECT GUTENBERG EBOOK .* \\*\\*\\*'\n",
    "    end_marker = r'\\*\\*\\* END OF THE PROJECT GUTENBERG EBOOK .* \\*\\*\\*'\n",
    "    \n",
    "    # Use regex to extract text between the markers\n",
    "    match = re.search(f'{start_marker}(.*?){end_marker}', text, re.DOTALL)\n",
    "    \n",
    "    if match:\n",
    "        # Return the text between the markers\n",
    "        return match.group(1).strip()\n",
    "    else:\n",
    "        return \"Boilerplate markers not found.\""
   ]
  },
  {
   "cell_type": "markdown",
   "id": "9198a667-21c6-4e7f-9a76-cb281c9bb488",
   "metadata": {},
   "source": [
    "## Text pre-processing (Documents-only), and trying the system out"
   ]
  },
  {
   "cell_type": "code",
   "execution_count": null,
   "id": "814c7368-5208-41d6-a493-0a12ed6a5a72",
   "metadata": {},
   "outputs": [],
   "source": []
  }
 ],
 "metadata": {
  "kernelspec": {
   "display_name": "Python 3 (ipykernel)",
   "language": "python",
   "name": "python3"
  },
  "language_info": {
   "codemirror_mode": {
    "name": "ipython",
    "version": 3
   },
   "file_extension": ".py",
   "mimetype": "text/x-python",
   "name": "python",
   "nbconvert_exporter": "python",
   "pygments_lexer": "ipython3",
   "version": "3.10.12"
  }
 },
 "nbformat": 4,
 "nbformat_minor": 5
}
